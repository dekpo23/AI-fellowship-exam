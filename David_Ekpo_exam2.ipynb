{
 "cells": [
  {
   "cell_type": "code",
   "execution_count": 1,
   "id": "cb8297e3",
   "metadata": {},
   "outputs": [],
   "source": [
    "#import libraries\n",
    "import numpy as np\n",
    "import pandas as pd\n",
    "import scipy.stats as stats"
   ]
  },
  {
   "cell_type": "markdown",
   "id": "07a0821a",
   "metadata": {},
   "source": [
    "## Month 2 - exams\n",
    "## Question 1 - Pandas for Data Analysis"
   ]
  },
  {
   "cell_type": "code",
   "execution_count": 2,
   "id": "af4f4934",
   "metadata": {},
   "outputs": [
    {
     "data": {
      "text/html": [
       "<div>\n",
       "<style scoped>\n",
       "    .dataframe tbody tr th:only-of-type {\n",
       "        vertical-align: middle;\n",
       "    }\n",
       "\n",
       "    .dataframe tbody tr th {\n",
       "        vertical-align: top;\n",
       "    }\n",
       "\n",
       "    .dataframe thead th {\n",
       "        text-align: right;\n",
       "    }\n",
       "</style>\n",
       "<table border=\"1\" class=\"dataframe\">\n",
       "  <thead>\n",
       "    <tr style=\"text-align: right;\">\n",
       "      <th></th>\n",
       "      <th>Date</th>\n",
       "      <th>Branch</th>\n",
       "      <th>Sales Agent</th>\n",
       "      <th>Products</th>\n",
       "      <th>Units</th>\n",
       "      <th>Price</th>\n",
       "      <th>Year</th>\n",
       "      <th>Month</th>\n",
       "      <th>Day</th>\n",
       "      <th>Day_of_Week</th>\n",
       "    </tr>\n",
       "  </thead>\n",
       "  <tbody>\n",
       "    <tr>\n",
       "      <th>0</th>\n",
       "      <td>2014-09-01</td>\n",
       "      <td>Woji</td>\n",
       "      <td>Chinedu</td>\n",
       "      <td>Apple</td>\n",
       "      <td>2</td>\n",
       "      <td>125.00</td>\n",
       "      <td>2014</td>\n",
       "      <td>9</td>\n",
       "      <td>1</td>\n",
       "      <td>0</td>\n",
       "    </tr>\n",
       "    <tr>\n",
       "      <th>1</th>\n",
       "      <td>2015-06-17</td>\n",
       "      <td>Woji</td>\n",
       "      <td>Emeka</td>\n",
       "      <td>Apple</td>\n",
       "      <td>5</td>\n",
       "      <td>125.00</td>\n",
       "      <td>2015</td>\n",
       "      <td>6</td>\n",
       "      <td>17</td>\n",
       "      <td>2</td>\n",
       "    </tr>\n",
       "    <tr>\n",
       "      <th>2</th>\n",
       "      <td>2015-09-10</td>\n",
       "      <td>Woji</td>\n",
       "      <td>Ibrahim</td>\n",
       "      <td>Lenovo</td>\n",
       "      <td>7</td>\n",
       "      <td>1.29</td>\n",
       "      <td>2015</td>\n",
       "      <td>9</td>\n",
       "      <td>10</td>\n",
       "      <td>3</td>\n",
       "    </tr>\n",
       "    <tr>\n",
       "      <th>3</th>\n",
       "      <td>2015-11-17</td>\n",
       "      <td>Woji</td>\n",
       "      <td>Tolu</td>\n",
       "      <td>HP</td>\n",
       "      <td>11</td>\n",
       "      <td>4.99</td>\n",
       "      <td>2015</td>\n",
       "      <td>11</td>\n",
       "      <td>17</td>\n",
       "      <td>1</td>\n",
       "    </tr>\n",
       "    <tr>\n",
       "      <th>4</th>\n",
       "      <td>2015-10-31</td>\n",
       "      <td>Woji</td>\n",
       "      <td>Tonye</td>\n",
       "      <td>Lenovo</td>\n",
       "      <td>14</td>\n",
       "      <td>1.29</td>\n",
       "      <td>2015</td>\n",
       "      <td>10</td>\n",
       "      <td>31</td>\n",
       "      <td>5</td>\n",
       "    </tr>\n",
       "  </tbody>\n",
       "</table>\n",
       "</div>"
      ],
      "text/plain": [
       "        Date Branch Sales Agent Products  Units   Price  Year  Month  Day  \\\n",
       "0 2014-09-01   Woji     Chinedu    Apple      2  125.00  2014      9    1   \n",
       "1 2015-06-17   Woji       Emeka    Apple      5  125.00  2015      6   17   \n",
       "2 2015-09-10   Woji     Ibrahim   Lenovo      7    1.29  2015      9   10   \n",
       "3 2015-11-17   Woji        Tolu       HP     11    4.99  2015     11   17   \n",
       "4 2015-10-31   Woji       Tonye   Lenovo     14    1.29  2015     10   31   \n",
       "\n",
       "   Day_of_Week  \n",
       "0            0  \n",
       "1            2  \n",
       "2            3  \n",
       "3            1  \n",
       "4            5  "
      ]
     },
     "execution_count": 2,
     "metadata": {},
     "output_type": "execute_result"
    }
   ],
   "source": [
    "#Import csv file\n",
    "df = pd.read_csv('https://raw.githubusercontent.com/ek-chris/Practice_datasets/refs/heads/main/eletronic_sales.csv')\n",
    "df['Date'] = pd.to_datetime(df['Date'])\n",
    "df['Year'] = df['Date'].dt.year\n",
    "df['Month'] = df['Date'].dt.month\n",
    "df['Day'] = df['Date'].dt.day\n",
    "df['Day_of_Week'] = df['Date'].dt.day_of_week\n",
    "df.head()"
   ]
  },
  {
   "cell_type": "markdown",
   "id": "14421344",
   "metadata": {},
   "source": [
    "### b. Branch-Level Total Sales"
   ]
  },
  {
   "cell_type": "code",
   "execution_count": 3,
   "id": "548c96e4",
   "metadata": {},
   "outputs": [
    {
     "data": {
      "text/html": [
       "<div>\n",
       "<style scoped>\n",
       "    .dataframe tbody tr th:only-of-type {\n",
       "        vertical-align: middle;\n",
       "    }\n",
       "\n",
       "    .dataframe tbody tr th {\n",
       "        vertical-align: top;\n",
       "    }\n",
       "\n",
       "    .dataframe thead th {\n",
       "        text-align: right;\n",
       "    }\n",
       "</style>\n",
       "<table border=\"1\" class=\"dataframe\">\n",
       "  <thead>\n",
       "    <tr style=\"text-align: right;\">\n",
       "      <th></th>\n",
       "      <th>Branch</th>\n",
       "      <th>Total Sales</th>\n",
       "    </tr>\n",
       "  </thead>\n",
       "  <tbody>\n",
       "    <tr>\n",
       "      <th>0</th>\n",
       "      <td>GRA</td>\n",
       "      <td>6002.09</td>\n",
       "    </tr>\n",
       "    <tr>\n",
       "      <th>1</th>\n",
       "      <td>Town</td>\n",
       "      <td>2486.72</td>\n",
       "    </tr>\n",
       "    <tr>\n",
       "      <th>2</th>\n",
       "      <td>Woji</td>\n",
       "      <td>11139.07</td>\n",
       "    </tr>\n",
       "  </tbody>\n",
       "</table>\n",
       "</div>"
      ],
      "text/plain": [
       "  Branch  Total Sales\n",
       "0    GRA      6002.09\n",
       "1   Town      2486.72\n",
       "2   Woji     11139.07"
      ]
     },
     "execution_count": 3,
     "metadata": {},
     "output_type": "execute_result"
    }
   ],
   "source": [
    "df['Total Sales'] = df['Units'] * df['Price']\n",
    "df_branch = df.groupby('Branch')['Total Sales'].sum().reset_index()\n",
    "df_branch[['Branch', 'Total Sales']]"
   ]
  },
  {
   "cell_type": "markdown",
   "id": "ce6deaef",
   "metadata": {},
   "source": [
    "### c. Top Performing Sales Agents"
   ]
  },
  {
   "cell_type": "code",
   "execution_count": 4,
   "id": "6e6501f9",
   "metadata": {},
   "outputs": [
    {
     "data": {
      "text/html": [
       "<div>\n",
       "<style scoped>\n",
       "    .dataframe tbody tr th:only-of-type {\n",
       "        vertical-align: middle;\n",
       "    }\n",
       "\n",
       "    .dataframe tbody tr th {\n",
       "        vertical-align: top;\n",
       "    }\n",
       "\n",
       "    .dataframe thead th {\n",
       "        text-align: right;\n",
       "    }\n",
       "</style>\n",
       "<table border=\"1\" class=\"dataframe\">\n",
       "  <thead>\n",
       "    <tr style=\"text-align: right;\">\n",
       "      <th></th>\n",
       "      <th>Sales Agent</th>\n",
       "      <th>Total Sales</th>\n",
       "    </tr>\n",
       "  </thead>\n",
       "  <tbody>\n",
       "    <tr>\n",
       "      <th>0</th>\n",
       "      <td>Blessing</td>\n",
       "      <td>2363.04</td>\n",
       "    </tr>\n",
       "    <tr>\n",
       "      <th>1</th>\n",
       "      <td>Chinedu</td>\n",
       "      <td>1641.43</td>\n",
       "    </tr>\n",
       "    <tr>\n",
       "      <th>2</th>\n",
       "      <td>Chioma</td>\n",
       "      <td>3102.30</td>\n",
       "    </tr>\n",
       "    <tr>\n",
       "      <th>3</th>\n",
       "      <td>Emeka</td>\n",
       "      <td>3109.44</td>\n",
       "    </tr>\n",
       "    <tr>\n",
       "      <th>4</th>\n",
       "      <td>George</td>\n",
       "      <td>1387.77</td>\n",
       "    </tr>\n",
       "    <tr>\n",
       "      <th>5</th>\n",
       "      <td>Ibrahim</td>\n",
       "      <td>1749.87</td>\n",
       "    </tr>\n",
       "    <tr>\n",
       "      <th>6</th>\n",
       "      <td>Tolu</td>\n",
       "      <td>2812.19</td>\n",
       "    </tr>\n",
       "    <tr>\n",
       "      <th>7</th>\n",
       "      <td>Tonye</td>\n",
       "      <td>438.37</td>\n",
       "    </tr>\n",
       "    <tr>\n",
       "      <th>8</th>\n",
       "      <td>Torbari</td>\n",
       "      <td>536.75</td>\n",
       "    </tr>\n",
       "    <tr>\n",
       "      <th>9</th>\n",
       "      <td>Tunde</td>\n",
       "      <td>1203.11</td>\n",
       "    </tr>\n",
       "    <tr>\n",
       "      <th>10</th>\n",
       "      <td>Uche</td>\n",
       "      <td>1283.61</td>\n",
       "    </tr>\n",
       "  </tbody>\n",
       "</table>\n",
       "</div>"
      ],
      "text/plain": [
       "   Sales Agent  Total Sales\n",
       "0     Blessing      2363.04\n",
       "1      Chinedu      1641.43\n",
       "2       Chioma      3102.30\n",
       "3        Emeka      3109.44\n",
       "4       George      1387.77\n",
       "5      Ibrahim      1749.87\n",
       "6         Tolu      2812.19\n",
       "7        Tonye       438.37\n",
       "8      Torbari       536.75\n",
       "9        Tunde      1203.11\n",
       "10        Uche      1283.61"
      ]
     },
     "execution_count": 4,
     "metadata": {},
     "output_type": "execute_result"
    }
   ],
   "source": [
    "df.groupby('Sales Agent')['Total Sales'].sum().reset_index()"
   ]
  },
  {
   "cell_type": "markdown",
   "id": "0bca9f77",
   "metadata": {},
   "source": [
    "### d. Introducing and Filling Missing Values"
   ]
  },
  {
   "cell_type": "code",
   "execution_count": null,
   "id": "0343eae4",
   "metadata": {},
   "outputs": [],
   "source": [
    "df.loc[[5, 15, 25], 'Price'] = np.nan\n",
    "df.fillna({'Price': df['Price'].median()}, inplace = True)\n",
    "df"
   ]
  },
  {
   "cell_type": "markdown",
   "id": "63881f54",
   "metadata": {},
   "source": [
    "### e.  Product-Level Summary"
   ]
  },
  {
   "cell_type": "code",
   "execution_count": 10,
   "id": "50202160",
   "metadata": {},
   "outputs": [
    {
     "data": {
      "text/html": [
       "<div>\n",
       "<style scoped>\n",
       "    .dataframe tbody tr th:only-of-type {\n",
       "        vertical-align: middle;\n",
       "    }\n",
       "\n",
       "    .dataframe tbody tr th {\n",
       "        vertical-align: top;\n",
       "    }\n",
       "\n",
       "    .dataframe thead th {\n",
       "        text-align: right;\n",
       "    }\n",
       "</style>\n",
       "<table border=\"1\" class=\"dataframe\">\n",
       "  <thead>\n",
       "    <tr style=\"text-align: right;\">\n",
       "      <th></th>\n",
       "      <th>average price</th>\n",
       "      <th>total units sold</th>\n",
       "    </tr>\n",
       "    <tr>\n",
       "      <th>Products</th>\n",
       "      <th></th>\n",
       "      <th></th>\n",
       "    </tr>\n",
       "  </thead>\n",
       "  <tbody>\n",
       "    <tr>\n",
       "      <th>Apple</th>\n",
       "      <td>175.000000</td>\n",
       "      <td>10</td>\n",
       "    </tr>\n",
       "    <tr>\n",
       "      <th>Compaq</th>\n",
       "      <td>5.190000</td>\n",
       "      <td>278</td>\n",
       "    </tr>\n",
       "    <tr>\n",
       "      <th>Dell</th>\n",
       "      <td>11.912857</td>\n",
       "      <td>395</td>\n",
       "    </tr>\n",
       "    <tr>\n",
       "      <th>HP</th>\n",
       "      <td>11.524000</td>\n",
       "      <td>722</td>\n",
       "    </tr>\n",
       "    <tr>\n",
       "      <th>Lenovo</th>\n",
       "      <td>3.005385</td>\n",
       "      <td>716</td>\n",
       "    </tr>\n",
       "  </tbody>\n",
       "</table>\n",
       "</div>"
      ],
      "text/plain": [
       "          average price  total units sold\n",
       "Products                                 \n",
       "Apple        175.000000                10\n",
       "Compaq         5.190000               278\n",
       "Dell          11.912857               395\n",
       "HP            11.524000               722\n",
       "Lenovo         3.005385               716"
      ]
     },
     "execution_count": 10,
     "metadata": {},
     "output_type": "execute_result"
    }
   ],
   "source": [
    "df_agg = df.groupby('Products').agg({'Price': 'mean', 'Units': 'sum'}).rename(columns = {'Price': 'average price', 'Units': 'total units sold'})\n",
    "df_agg"
   ]
  },
  {
   "cell_type": "markdown",
   "id": "f097e1c7",
   "metadata": {},
   "source": [
    "## Question 2 - Numpy for Numeric Computation"
   ]
  },
  {
   "cell_type": "markdown",
   "id": "b6b2b301",
   "metadata": {},
   "source": [
    "### a. Array Creation and Basic Manipulation"
   ]
  },
  {
   "cell_type": "code",
   "execution_count": 27,
   "id": "39517b17",
   "metadata": {},
   "outputs": [
    {
     "name": "stdout",
     "output_type": "stream",
     "text": [
      "Reshaped Matrix\n",
      "[[24 26 83 33 29]\n",
      " [10 68 78 90 58]\n",
      " [91 29 85 42 36]\n",
      " [20 99 56 88 34]]\n",
      "\n",
      "\n",
      "First 2 rows and Last 3 columns\n",
      "[[83 33 29]\n",
      " [78 90 58]]\n",
      "\n",
      "\n",
      "Mean: 53.95\n",
      "Standard Deviation: 28.084648831701635\n"
     ]
    }
   ],
   "source": [
    "nums = np.random.randint(10, 100, 20)\n",
    "nums_reshape = nums.reshape(4, 5)\n",
    "print('Reshaped Matrix')\n",
    "print(nums_reshape)\n",
    "print('\\n')\n",
    "print('First 2 rows and Last 3 columns')\n",
    "print(nums_reshape[:2, -3:])\n",
    "print('\\n')\n",
    "print('Mean:', nums.mean())\n",
    "print('Standard Deviation:', nums.std())"
   ]
  },
  {
   "cell_type": "code",
   "execution_count": 19,
   "id": "bd4afd5c",
   "metadata": {},
   "outputs": [
    {
     "data": {
      "text/plain": [
       "array([[99, 76, 59, 90, 93],\n",
       "       [85, 29, 70, 90, 41],\n",
       "       [97, 87, 30, 29, 25],\n",
       "       [93, 36, 24, 25, 51]], dtype=int32)"
      ]
     },
     "execution_count": 19,
     "metadata": {},
     "output_type": "execute_result"
    }
   ],
   "source": [
    "nums_reshape"
   ]
  },
  {
   "cell_type": "markdown",
   "id": "9d7592cf",
   "metadata": {},
   "source": [
    "### b. Operations on 2D Arrays"
   ]
  },
  {
   "cell_type": "code",
   "execution_count": 36,
   "id": "3b2f2e36",
   "metadata": {},
   "outputs": [
    {
     "name": "stdout",
     "output_type": "stream",
     "text": [
      "Average Score per student\n",
      "[61.6 76.2 60.8 73.4 77.6 53.  84.4 75.4 55.4 59.2]\n",
      "Maximum score\n",
      "98\n",
      "Minimum score\n",
      "30\n"
     ]
    }
   ],
   "source": [
    "scores = np.random.randint(30, 100, size = (10, 5))\n",
    "print('Average Score per student')\n",
    "print(scores.mean(axis=1))\n",
    "print('Maximum score')\n",
    "print(scores.max())\n",
    "print('Minimum score')\n",
    "print(scores.min())"
   ]
  },
  {
   "cell_type": "markdown",
   "id": "8dcc76e9",
   "metadata": {},
   "source": [
    "### c. Working with 3D Arrays"
   ]
  },
  {
   "cell_type": "code",
   "execution_count": 45,
   "id": "86bdd608",
   "metadata": {},
   "outputs": [
    {
     "name": "stdout",
     "output_type": "stream",
     "text": [
      "[[42 36]\n",
      " [51 28]\n",
      " [47 47]]\n",
      "[[10 12 17 19]\n",
      " [18 19  8 13]\n",
      " [16 19  1 16]]\n",
      "[ 5 10 12  8  6 17 19  1 18  3 12 19  8  5 13  1 12 16 18 19  1  1 16 11]\n"
     ]
    }
   ],
   "source": [
    "ints = np.random.randint(1, 20, size = (3, 4, 2))\n",
    "print(ints.sum(axis=1))\n",
    "print(ints.max(axis = 2))\n",
    "print(ints.flatten())"
   ]
  },
  {
   "cell_type": "markdown",
   "id": "31a8ad7b",
   "metadata": {},
   "source": [
    "# Question 3 - Statistics for statistical Analysis"
   ]
  },
  {
   "cell_type": "markdown",
   "id": "543ec63b",
   "metadata": {},
   "source": [
    "### a. Measures of Center and Spread"
   ]
  },
  {
   "cell_type": "markdown",
   "id": "f6cb7265",
   "metadata": {},
   "source": [
    "#### Mean\n",
    "CO2 emisions is given by the dataset: D = [25.4, 30.2, 22.5, 28.1, 35].\n",
    "To compute the mean, we use the formula\n",
    "$$\n",
    "\\mu = \\frac{\\sum_{i=0}^n (X_i \\in D)}{n}\n",
    "$$\n",
    "\n",
    "$$\n",
    "\\implies \\mu = \\frac{141.2}{5}  = 28.24\n",
    "$$\n",
    "\n",
    "$$\n",
    "\\therefore \\mu = 28.24\n",
    "$$\n",
    "#### Median\n",
    "Median  is given by the mid value after sorting, since the size of our data is 5, we take the mid value\n",
    "$$\n",
    "\\text{i.e  } median = 28.1\n",
    "$$\n",
    "#### \n",
    "\n",
    "#### Mode\n",
    "There is no mode in our dataset\n",
    "\n"
   ]
  },
  {
   "cell_type": "markdown",
   "id": "5b127ba1",
   "metadata": {},
   "source": [
    "### b. Hypothesis testing"
   ]
  },
  {
   "cell_type": "code",
   "execution_count": 58,
   "id": "45dec7ed",
   "metadata": {},
   "outputs": [
    {
     "name": "stdout",
     "output_type": "stream",
     "text": [
      "t statistic: 33.288895109847196, Pvalue: 7.237288101315669e-10\n"
     ]
    }
   ],
   "source": [
    "### b. Hypothesis testing\n",
    "\n",
    "arg = [60, 62, 58, 63, 59]\n",
    "bang = [15, 12, 18, 14, 16]\n",
    "\n",
    "#Define the Null and Alternate Hypthesis\n",
    "#H0 = There is no significant difference in mean beef consumption \n",
    "#H0 = There is significant difference in mean beef consumption \n",
    "\n",
    "tstat, pvalue = stats.ttest_ind(arg, bang)\n",
    "print(f't statistic: {tstat}, Pvalue: {pvalue}')\n",
    "\n",
    "# Since the p value is less than significant level 0.05, then there is enough statistical evidence to reject the null hypothesis, that is statistical difference in mean beef consumption between both countries\n"
   ]
  },
  {
   "cell_type": "markdown",
   "id": "2a3e4275",
   "metadata": {},
   "source": [
    "### c. Correlation Analysis"
   ]
  },
  {
   "cell_type": "code",
   "execution_count": null,
   "id": "aa32406a",
   "metadata": {},
   "outputs": [
    {
     "name": "stdout",
     "output_type": "stream",
     "text": [
      "Correlation coefficient: 0.9872177725716262, Pvalue: 0.001731447097541322\n"
     ]
    }
   ],
   "source": [
    "con = [10, 15, 20, 25, 30]\n",
    "co2 = [30, 45, 50, 70, 85]\n",
    "\n",
    "t_stat, p_val = stats.pearsonr(con, co2)\n",
    "print(f'Correlation coefficient: {t_stat}, Pvalue: {p_val}')\n",
    "\n",
    "\n",
    "#b. The correlation coefficient is 0.98 which means we have a very strong correlation\n",
    "#c. Corellation of approximately 0 implies there is no correlation between both features"
   ]
  },
  {
   "cell_type": "markdown",
   "id": "492f9dc4",
   "metadata": {},
   "source": [
    "## 4. Linear Algebra"
   ]
  },
  {
   "cell_type": "markdown",
   "id": "0f68d474",
   "metadata": {},
   "source": [
    "### a. Total score per subject"
   ]
  },
  {
   "cell_type": "code",
   "execution_count": 76,
   "id": "9547a15d",
   "metadata": {},
   "outputs": [
    {
     "name": "stdout",
     "output_type": "stream",
     "text": [
      "[[80 70 90]\n",
      " [60 85 75]\n",
      " [95 88 92]\n",
      " [70 60 65]]\n",
      "\n",
      "\n",
      "Total Scores for each student\n",
      "[240 220 275 195]\n",
      "[80.         73.33333333 91.66666667 65.        ]\n"
     ]
    }
   ],
   "source": [
    "scores = np.array([[80, 70, 90], [60, 85, 75], [95, 88, 92], [70, 60, 65]])\n",
    "print(scores)\n",
    "# Total Scores for each student\n",
    "print('\\n')\n",
    "print('Total Scores for each student')\n",
    "print(np.sum(scores, axis = 1))\n",
    "weight = np.sum(scores, axis = 1)\n",
    "print(weight/3)\n",
    "\n",
    "\n"
   ]
  },
  {
   "cell_type": "markdown",
   "id": "3aaec86a",
   "metadata": {},
   "source": [
    "### b. Average score per subject"
   ]
  },
  {
   "cell_type": "code",
   "execution_count": 69,
   "id": "e8cd06d8",
   "metadata": {},
   "outputs": [
    {
     "name": "stdout",
     "output_type": "stream",
     "text": [
      "Average Scores for each subject\n",
      "[305 303 322]\n"
     ]
    }
   ],
   "source": [
    "print('Average Scores for each subject')\n",
    "print(np.sum(scores, axis = 0))"
   ]
  },
  {
   "cell_type": "markdown",
   "id": "5f912803",
   "metadata": {},
   "source": [
    "### c. Weighted  Final Score"
   ]
  },
  {
   "cell_type": "code",
   "execution_count": 75,
   "id": "fd6cf86f",
   "metadata": {},
   "outputs": [
    {
     "name": "stdout",
     "output_type": "stream",
     "text": [
      "Weighted Average\n",
      "[79.  70.5 92.3 66. ]\n"
     ]
    }
   ],
   "source": [
    "w = [0.5, 0.3, 0.2]\n",
    "weighted = scores * w\n",
    "print('Weighted Average')\n",
    "print(np.sum(weighted, axis = 1))"
   ]
  },
  {
   "cell_type": "code",
   "execution_count": null,
   "id": "458c83c4",
   "metadata": {},
   "outputs": [],
   "source": []
  }
 ],
 "metadata": {
  "kernelspec": {
   "display_name": "Python 3",
   "language": "python",
   "name": "python3"
  },
  "language_info": {
   "codemirror_mode": {
    "name": "ipython",
    "version": 3
   },
   "file_extension": ".py",
   "mimetype": "text/x-python",
   "name": "python",
   "nbconvert_exporter": "python",
   "pygments_lexer": "ipython3",
   "version": "3.13.7"
  }
 },
 "nbformat": 4,
 "nbformat_minor": 5
}
